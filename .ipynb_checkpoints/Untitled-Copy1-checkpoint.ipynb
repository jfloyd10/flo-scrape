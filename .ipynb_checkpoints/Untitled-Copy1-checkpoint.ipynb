{
 "cells": [
  {
   "cell_type": "code",
   "execution_count": 1,
   "id": "11f4c7c7-9127-4f86-b200-3df1238aa3bd",
   "metadata": {},
   "outputs": [],
   "source": [
    "import time\n",
    "from selenium import webdriver\n",
    "from selenium.webdriver import ChromeOptions, Keys\n",
    "from selenium.webdriver.common.by import By\n",
    "from selenium.webdriver.support import expected_conditions as EC\n",
    "from selenium.webdriver.support.wait import WebDriverWait"
   ]
  },
  {
   "cell_type": "code",
   "execution_count": 2,
   "id": "d108c918-62e0-4103-aa79-743eee7d934a",
   "metadata": {},
   "outputs": [],
   "source": [
    "# Set up the Chrome options\n",
    "options = ChromeOptions()\n",
    "options.add_argument(\"--headless\") \n",
    "options.add_argument(\"--no-sandbox\")\n",
    "options.add_argument('--disable-gpu')\n",
    "options.add_argument(\"--disable-dev-shm-usage\")\n",
    "options.add_argument(\"--window-size=1920x1080\") \n",
    "options.add_experimental_option(\"excludeSwitches\", [\"enable-automation\"]) \n",
    "options.add_argument(\"--user-agent=Mozilla/5.0 (Windows NT 10.0; Win64; x64) AppleWebKit/537.36 (KHTML, like Gecko) Chrome/91.0.4472.124 Safari/537.36\")"
   ]
  },
  {
   "cell_type": "code",
   "execution_count": 3,
   "id": "2031163a-b2d2-4f14-889e-5ac2b2670856",
   "metadata": {},
   "outputs": [],
   "source": [
    "driver=webdriver.Chrome(options=options)"
   ]
  },
  {
   "cell_type": "code",
   "execution_count": 4,
   "id": "6a93a854-2c96-4bfe-82da-6dffd5377679",
   "metadata": {},
   "outputs": [],
   "source": [
    "driver.get('https://twitter.com/i/flow/login')"
   ]
  },
  {
   "cell_type": "code",
   "execution_count": 5,
   "id": "e7a4cf04-b79f-4b3c-a6ba-a2707c33b2a5",
   "metadata": {},
   "outputs": [],
   "source": [
    "username = WebDriverWait(driver, 20).until(EC.visibility_of_element_located((By.CSS_SELECTOR, 'input[autocomplete=\"username\"]')))\n",
    "username.send_keys(\"LearngcpG89493\")\n",
    "username.send_keys(Keys.ENTER)\n",
    "\n",
    "password = WebDriverWait(driver, 10).until(EC.visibility_of_element_located((By.CSS_SELECTOR, 'input[name=\"password\"]')))\n",
    "password.send_keys(\"13438jFF!\")\n",
    "password.send_keys(Keys.ENTER)\n",
    "\n",
    "time.sleep(5)"
   ]
  },
  {
   "cell_type": "code",
   "execution_count": 6,
   "id": "7b875214-7085-42da-8a7f-b3e367e8f1ea",
   "metadata": {},
   "outputs": [
    {
     "data": {
      "text/plain": [
       "True"
      ]
     },
     "execution_count": 6,
     "metadata": {},
     "output_type": "execute_result"
    }
   ],
   "source": [
    "driver.save_screenshot('test.png')"
   ]
  },
  {
   "cell_type": "code",
   "execution_count": 7,
   "id": "78ffcac8-9b55-4a73-bd03-eaf458be9f2e",
   "metadata": {},
   "outputs": [],
   "source": [
    "driver.get('https://twitter.com/explore/tabs/trending')"
   ]
  },
  {
   "cell_type": "code",
   "execution_count": 8,
   "id": "b46872ae-19e2-4f92-8754-a4169918d39f",
   "metadata": {},
   "outputs": [
    {
     "data": {
      "text/plain": [
       "True"
      ]
     },
     "execution_count": 8,
     "metadata": {},
     "output_type": "execute_result"
    }
   ],
   "source": [
    "driver.save_screenshot('test.png')"
   ]
  },
  {
   "cell_type": "code",
   "execution_count": 14,
   "id": "f0386366-e5c1-4b18-9aad-9d89731be4c7",
   "metadata": {},
   "outputs": [],
   "source": [
    "trending_list = driver.find_element(By.CSS_SELECTOR, '[aria-labelledby=\"accessible-list-0\"]')"
   ]
  },
  {
   "cell_type": "code",
   "execution_count": 100,
   "id": "bfb1aaaf-e2d9-4401-98c8-69b47fde9d71",
   "metadata": {},
   "outputs": [],
   "source": [
    "def get_html(elements):\n",
    "    return elements.get_attribute('innerHTML')"
   ]
  },
  {
   "cell_type": "code",
   "execution_count": 22,
   "id": "9596b1ea-af86-45eb-b1a0-898d42f80ee8",
   "metadata": {},
   "outputs": [],
   "source": [
    "sub_list = driver.find_elements(By.CSS_SELECTOR, '[data-testid=\"cellInnerDiv\"]') "
   ]
  },
  {
   "cell_type": "code",
   "execution_count": 29,
   "id": "d2e1048f-77e8-4dac-8f95-041f23e3c518",
   "metadata": {},
   "outputs": [],
   "source": [
    "trim_header = sub_list[2:]"
   ]
  },
  {
   "cell_type": "code",
   "execution_count": 32,
   "id": "875bf9ad-12bb-42f0-8500-453e7635238d",
   "metadata": {},
   "outputs": [],
   "source": [
    "ex = sub_list[0]"
   ]
  },
  {
   "cell_type": "code",
   "execution_count": 41,
   "id": "3a8e7cad-8a77-40a5-9133-b368c578ff47",
   "metadata": {},
   "outputs": [],
   "source": [
    "span_elements = driver.find_elements(By.TAG_NAME, 'span')"
   ]
  },
  {
   "cell_type": "code",
   "execution_count": 113,
   "id": "d4a3404e-5886-493c-9857-68446bc98bda",
   "metadata": {},
   "outputs": [],
   "source": [
    "for e in span_elements:\n",
    "    get_html(e)"
   ]
  },
  {
   "cell_type": "code",
   "execution_count": 76,
   "id": "b75f7715-e2e0-4faa-b4a1-5c080201e63f",
   "metadata": {},
   "outputs": [],
   "source": [
    "trim_span = span_elements[34:]"
   ]
  },
  {
   "cell_type": "code",
   "execution_count": 103,
   "id": "95036e96-7371-4d5c-a7e3-78ec080c5c91",
   "metadata": {},
   "outputs": [],
   "source": [
    "trending_topics = []"
   ]
  },
  {
   "cell_type": "code",
   "execution_count": 104,
   "id": "275022b1-b52f-4423-bc09-e9a83c8b0f84",
   "metadata": {},
   "outputs": [],
   "source": [
    "for i in range(0, len(trim_span), 5):\n",
    "    subset = trim_span[i:i+5]\n",
    "    vals = []\n",
    "    for s in subset:\n",
    "        vals.append(get_html(s))\n",
    "\n",
    "    trending_topics.append(vals)       "
   ]
  },
  {
   "cell_type": "code",
   "execution_count": 112,
   "id": "50a5d736-6490-49c9-af55-b487e1863711",
   "metadata": {},
   "outputs": [
    {
     "data": {
      "text/plain": [
       "[['1',\n",
       "  '·',\n",
       "  'Politics · Trending',\n",
       "  '<span dir=\"ltr\" class=\"css-901oao css-16my406 r-poiln3 r-bcqeeo r-qvutc0\">#CeaseFireInGaza</span>',\n",
       "  '#CeaseFireInGaza'],\n",
       " ['42.9K posts', '2', '·', 'Trending', 'World Series'],\n",
       " ['Diamondbacks',\n",
       "  '<span dir=\"ltr\" class=\"css-901oao css-16my406 r-poiln3 r-bcqeeo r-3s2u2q r-qvutc0\">#EmbraceTheChaos<img alt=\"\" draggable=\"false\" src=\"https://abs.twimg.com/hashflags/MLB_2023_Dbacks_PLAYOFFS/MLB_2023_Dbacks_PLAYOFFS.png\" class=\"r-4qtqp9 r-dflpy8 r-9cviqr r-zw8f10 r-10akycc r-h9hxbl\"></span>',\n",
       "  '#EmbraceTheChaos<img alt=\"\" draggable=\"false\" src=\"https://abs.twimg.com/hashflags/MLB_2023_Dbacks_PLAYOFFS/MLB_2023_Dbacks_PLAYOFFS.png\" class=\"r-4qtqp9 r-dflpy8 r-9cviqr r-zw8f10 r-10akycc r-h9hxbl\">',\n",
       "  '3',\n",
       "  '·'],\n",
       " ['Sports · Trending', 'Stipe', 'Sergei', '4', '·'],\n",
       " ['Only on Twitter · Trending', 'Good Wednesday', '18.6K posts', '5', '·'],\n",
       " ['MLB · Trending', 'Phillies', 'Sixers', '6', '·'],\n",
       " ['Trending',\n",
       "  'Acapulco',\n",
       "  '<span dir=\"ltr\" class=\"css-901oao css-16my406 r-poiln3 r-bcqeeo r-qvutc0\">#Otis</span>',\n",
       "  '#Otis',\n",
       "  'Warriors'],\n",
       " ['7', '·', 'Politics · Trending', 'Mike Johnson', '104K posts'],\n",
       " ['8',\n",
       "  '·',\n",
       "  'Only on Twitter · Trending',\n",
       "  '<span dir=\"ltr\" class=\"css-901oao css-16my406 r-poiln3 r-bcqeeo r-qvutc0\">#WednesdayMotivation</span>',\n",
       "  '#WednesdayMotivation'],\n",
       " ['6,950 posts', '9', '·', 'Trending', 'Hump Day'],\n",
       " ['10.5K posts', '10', '·', 'Entertainment · Trending', 'Richard Roundtree'],\n",
       " ['Shaft', 'Rest in Power', '11', '·', 'Sports · Trending'],\n",
       " ['Jon Jones',\n",
       "  '<span dir=\"ltr\" class=\"css-901oao css-16my406 r-poiln3 r-bcqeeo r-qvutc0\">#UFC295</span>',\n",
       "  '#UFC295',\n",
       "  'Aspinall',\n",
       "  '12'],\n",
       " ['·',\n",
       "  'Only on Twitter · Trending',\n",
       "  '<span dir=\"ltr\" class=\"css-901oao css-16my406 r-poiln3 r-bcqeeo r-qvutc0\">#jjk240</span>',\n",
       "  '#jjk240',\n",
       "  '<span dir=\"ltr\" class=\"css-901oao css-16my406 r-poiln3 r-bcqeeo r-qvutc0\">#JJKSpoilers</span>'],\n",
       " ['#JJKSpoilers', '13', '·', 'Trending', 'Chuck Norris'],\n",
       " ['1,578 posts', '14', '·', 'Politics · Trending', 'Meadows'],\n",
       " ['182K posts', '15', '·', 'NBA · Trending', 'Wiggins'],\n",
       " ['Kuminga', '16', '·', 'Trending', 'Takaba'],\n",
       " ['Kenjaku', '17', '·', 'NHL · Trending', 'Paul Cotter'],\n",
       " ['<span dir=\"ltr\" class=\"css-901oao css-16my406 r-poiln3 r-bcqeeo r-3s2u2q r-qvutc0\">#VegasBorn<img alt=\"\" draggable=\"false\" src=\"https://abs.twimg.com/hashflags/NHL_GoldenKnights_2023/NHL_GoldenKnights_2023.png\" class=\"r-4qtqp9 r-dflpy8 r-9cviqr r-zw8f10 r-10akycc r-h9hxbl\"></span>',\n",
       "  '#VegasBorn<img alt=\"\" draggable=\"false\" src=\"https://abs.twimg.com/hashflags/NHL_GoldenKnights_2023/NHL_GoldenKnights_2023.png\" class=\"r-4qtqp9 r-dflpy8 r-9cviqr r-zw8f10 r-10akycc r-h9hxbl\">',\n",
       "  '18',\n",
       "  '·',\n",
       "  'NBA · Trending'],\n",
       " ['eric gordon', '2,738 posts', '19', '·', 'Trending'],\n",
       " ['Gege', '14.8K posts', '20', '·', 'Trending'],\n",
       " ['lino', '22.4K posts', '21', '·', 'NBA · Trending'],\n",
       " ['Curry', '55.2K posts', '22', '·', 'MLB · Trending'],\n",
       " ['Turner', '25.4K posts', '23', '·', 'Politics · Trending'],\n",
       " ['Virginia Foxx', '1,974 posts', '24', '·', 'MLB · Trending'],\n",
       " ['Sewald', '4,521 posts', '25', '·', 'Cheesecake Factory · Trending'],\n",
       " ['Cheesecake Factory', '7,226 posts', '26', '·', 'Trending'],\n",
       " ['Kerry', '35K posts', '27', '·', 'NBA · Trending'],\n",
       " ['Grayson Allen', '2,327 posts', '28', '·', 'Sports · Trending'],\n",
       " ['Brady Quinn', '5,777 posts', '29', '·', 'MLB · Trending'],\n",
       " ['Brewers', '4,668 posts', '30', '·', 'Sports · Trending'],\n",
       " ['Flyers',\n",
       "  '13K posts',\n",
       "  'Who to follow',\n",
       "  '<span class=\"css-901oao css-16my406 r-poiln3 r-bcqeeo r-qvutc0\">NFL</span><span class=\"css-901oao css-16my406 r-poiln3 r-bcqeeo r-1pos5eu r-qvutc0\"></span>',\n",
       "  'NFL'],\n",
       " ['',\n",
       "  '<svg viewBox=\"0 0 22 22\" aria-label=\"Verified account\" role=\"img\" class=\"r-4qtqp9 r-yyyyoo r-1xvli5t r-9cviqr r-f9ja8p r-og9te1 r-bnwqim r-1plcrui r-lrvibr\" data-testid=\"icon-verified\"><g><linearGradient gradientUnits=\"userSpaceOnUse\" id=\"0-a\" x1=\"4.411\" x2=\"18.083\" y1=\"2.495\" y2=\"21.508\"><stop offset=\"0\" stop-color=\"#f4e72a\"></stop><stop offset=\".539\" stop-color=\"#cd8105\"></stop><stop offset=\".68\" stop-color=\"#cb7b00\"></stop><stop offset=\"1\" stop-color=\"#f4ec26\"></stop><stop offset=\"1\" stop-color=\"#f4e72a\"></stop></linearGradient><linearGradient gradientUnits=\"userSpaceOnUse\" id=\"0-b\" x1=\"5.355\" x2=\"16.361\" y1=\"3.395\" y2=\"19.133\"><stop offset=\"0\" stop-color=\"#f9e87f\"></stop><stop offset=\".406\" stop-color=\"#e2b719\"></stop><stop offset=\".989\" stop-color=\"#e2b719\"></stop></linearGradient><g clip-rule=\"evenodd\" fill-rule=\"evenodd\"><path d=\"M13.324 3.848L11 1.6 8.676 3.848l-3.201-.453-.559 3.184L2.06 8.095 3.48 11l-1.42 2.904 2.856 1.516.559 3.184 3.201-.452L11 20.4l2.324-2.248 3.201.452.559-3.184 2.856-1.516L18.52 11l1.42-2.905-2.856-1.516-.559-3.184zm-7.09 7.575l3.428 3.428 5.683-6.206-1.347-1.247-4.4 4.795-2.072-2.072z\" fill=\"url(#0-a)\"></path><path d=\"M13.101 4.533L11 2.5 8.899 4.533l-2.895-.41-.505 2.88-2.583 1.37L4.2 11l-1.284 2.627 2.583 1.37.505 2.88 2.895-.41L11 19.5l2.101-2.033 2.895.41.505-2.88 2.583-1.37L17.8 11l1.284-2.627-2.583-1.37-.505-2.88zm-6.868 6.89l3.429 3.428 5.683-6.206-1.347-1.247-4.4 4.795-2.072-2.072z\" fill=\"url(#0-b)\"></path><path d=\"M6.233 11.423l3.429 3.428 5.65-6.17.038-.033-.005 1.398-5.683 6.206-3.429-3.429-.003-1.405.005.003z\" fill=\"#d18800\"></path></g></g></svg>',\n",
       "  '@NFL',\n",
       "  '<span class=\"css-901oao css-16my406 r-poiln3 r-bcqeeo r-qvutc0\">Follow</span>',\n",
       "  'Follow'],\n",
       " ['<span class=\"css-901oao css-16my406 r-poiln3 r-bcqeeo r-qvutc0\">Adrian Wojnarowski</span><span class=\"css-901oao css-16my406 r-poiln3 r-bcqeeo r-1pos5eu r-qvutc0\"></span>',\n",
       "  'Adrian Wojnarowski',\n",
       "  '',\n",
       "  '<svg viewBox=\"0 0 22 22\" aria-label=\"Verified account\" role=\"img\" class=\"r-1cvl2hr r-4qtqp9 r-yyyyoo r-1xvli5t r-9cviqr r-f9ja8p r-og9te1 r-bnwqim r-1plcrui r-lrvibr\" data-testid=\"icon-verified\"><g><path d=\"M20.396 11c-.018-.646-.215-1.275-.57-1.816-.354-.54-.852-.972-1.438-1.246.223-.607.27-1.264.14-1.897-.131-.634-.437-1.218-.882-1.687-.47-.445-1.053-.75-1.687-.882-.633-.13-1.29-.083-1.897.14-.273-.587-.704-1.086-1.245-1.44S11.647 1.62 11 1.604c-.646.017-1.273.213-1.813.568s-.969.854-1.24 1.44c-.608-.223-1.267-.272-1.902-.14-.635.13-1.22.436-1.69.882-.445.47-.749 1.055-.878 1.688-.13.633-.08 1.29.144 1.896-.587.274-1.087.705-1.443 1.245-.356.54-.555 1.17-.574 1.817.02.647.218 1.276.574 1.817.356.54.856.972 1.443 1.245-.224.606-.274 1.263-.144 1.896.13.634.433 1.218.877 1.688.47.443 1.054.747 1.687.878.633.132 1.29.084 1.897-.136.274.586.705 1.084 1.246 1.439.54.354 1.17.551 1.816.569.647-.016 1.276-.213 1.817-.567s.972-.854 1.245-1.44c.604.239 1.266.296 1.903.164.636-.132 1.22-.447 1.68-.907.46-.46.776-1.044.908-1.681s.075-1.299-.165-1.903c.586-.274 1.084-.705 1.439-1.246.354-.54.551-1.17.569-1.816zM9.662 14.85l-3.429-3.428 1.293-1.302 2.072 2.072 4.4-4.794 1.347 1.246z\"></path></g></svg>',\n",
       "  '@wojespn'],\n",
       " ['<span class=\"css-901oao css-16my406 r-poiln3 r-bcqeeo r-qvutc0\">Follow</span>',\n",
       "  'Follow',\n",
       "  '<span class=\"css-901oao css-16my406 r-poiln3 r-bcqeeo r-qvutc0\">Ubisoft</span><span class=\"css-901oao css-16my406 r-poiln3 r-bcqeeo r-1pos5eu r-qvutc0\"></span>',\n",
       "  'Ubisoft',\n",
       "  ''],\n",
       " ['<svg viewBox=\"0 0 22 22\" aria-label=\"Verified account\" role=\"img\" class=\"r-4qtqp9 r-yyyyoo r-1xvli5t r-9cviqr r-f9ja8p r-og9te1 r-bnwqim r-1plcrui r-lrvibr\" data-testid=\"icon-verified\"><g><linearGradient gradientUnits=\"userSpaceOnUse\" id=\"1-a\" x1=\"4.411\" x2=\"18.083\" y1=\"2.495\" y2=\"21.508\"><stop offset=\"0\" stop-color=\"#f4e72a\"></stop><stop offset=\".539\" stop-color=\"#cd8105\"></stop><stop offset=\".68\" stop-color=\"#cb7b00\"></stop><stop offset=\"1\" stop-color=\"#f4ec26\"></stop><stop offset=\"1\" stop-color=\"#f4e72a\"></stop></linearGradient><linearGradient gradientUnits=\"userSpaceOnUse\" id=\"1-b\" x1=\"5.355\" x2=\"16.361\" y1=\"3.395\" y2=\"19.133\"><stop offset=\"0\" stop-color=\"#f9e87f\"></stop><stop offset=\".406\" stop-color=\"#e2b719\"></stop><stop offset=\".989\" stop-color=\"#e2b719\"></stop></linearGradient><g clip-rule=\"evenodd\" fill-rule=\"evenodd\"><path d=\"M13.324 3.848L11 1.6 8.676 3.848l-3.201-.453-.559 3.184L2.06 8.095 3.48 11l-1.42 2.904 2.856 1.516.559 3.184 3.201-.452L11 20.4l2.324-2.248 3.201.452.559-3.184 2.856-1.516L18.52 11l1.42-2.905-2.856-1.516-.559-3.184zm-7.09 7.575l3.428 3.428 5.683-6.206-1.347-1.247-4.4 4.795-2.072-2.072z\" fill=\"url(#1-a)\"></path><path d=\"M13.101 4.533L11 2.5 8.899 4.533l-2.895-.41-.505 2.88-2.583 1.37L4.2 11l-1.284 2.627 2.583 1.37.505 2.88 2.895-.41L11 19.5l2.101-2.033 2.895.41.505-2.88 2.583-1.37L17.8 11l1.284-2.627-2.583-1.37-.505-2.88zm-6.868 6.89l3.429 3.428 5.683-6.206-1.347-1.247-4.4 4.795-2.072-2.072z\" fill=\"url(#1-b)\"></path><path d=\"M6.233 11.423l3.429 3.428 5.65-6.17.038-.033-.005 1.398-5.683 6.206-3.429-3.429-.003-1.405.005.003z\" fill=\"#d18800\"></path></g></g></svg>',\n",
       "  '@Ubisoft',\n",
       "  '<span class=\"css-901oao css-16my406 r-poiln3 r-bcqeeo r-qvutc0\">Follow</span>',\n",
       "  'Follow',\n",
       "  'Show more'],\n",
       " ['Terms of Service',\n",
       "  'Privacy Policy',\n",
       "  'Cookie Policy',\n",
       "  'Accessibility',\n",
       "  'Ads info'],\n",
       " ['More', '© 2023 X Corp.']]"
      ]
     },
     "execution_count": 112,
     "metadata": {},
     "output_type": "execute_result"
    }
   ],
   "source": [
    "trending_topics"
   ]
  },
  {
   "cell_type": "code",
   "execution_count": null,
   "id": "3fcb07be-af0c-4156-bdf4-c4112e0dc494",
   "metadata": {},
   "outputs": [],
   "source": []
  }
 ],
 "metadata": {
  "kernelspec": {
   "display_name": "Python 3 (ipykernel)",
   "language": "python",
   "name": "python3"
  },
  "language_info": {
   "codemirror_mode": {
    "name": "ipython",
    "version": 3
   },
   "file_extension": ".py",
   "mimetype": "text/x-python",
   "name": "python",
   "nbconvert_exporter": "python",
   "pygments_lexer": "ipython3",
   "version": "3.11.4"
  }
 },
 "nbformat": 4,
 "nbformat_minor": 5
}
