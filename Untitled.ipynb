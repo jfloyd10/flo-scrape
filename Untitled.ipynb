{
 "cells": [
  {
   "cell_type": "code",
   "execution_count": 1,
   "id": "11f4c7c7-9127-4f86-b200-3df1238aa3bd",
   "metadata": {},
   "outputs": [],
   "source": [
    "import time\n",
    "from selenium import webdriver\n",
    "from selenium.webdriver import ChromeOptions, Keys\n",
    "from selenium.webdriver.common.by import By\n",
    "from selenium.webdriver.support import expected_conditions as EC\n",
    "from selenium.webdriver.support.wait import WebDriverWait\n",
    "import time\n",
    "from datetime import datetime"
   ]
  },
  {
   "cell_type": "code",
   "execution_count": 2,
   "id": "d108c918-62e0-4103-aa79-743eee7d934a",
   "metadata": {},
   "outputs": [],
   "source": [
    "# Set up the Chrome options\n",
    "options = ChromeOptions()\n",
    "options.add_argument(\"--headless\") \n",
    "options.add_argument(\"--no-sandbox\")\n",
    "options.add_argument('--disable-gpu')\n",
    "options.add_argument(\"--disable-dev-shm-usage\")\n",
    "options.add_argument(\"--window-size=1920x1080\") \n",
    "options.add_experimental_option(\"excludeSwitches\", [\"enable-automation\"]) \n",
    "options.add_argument(\"--user-agent=Mozilla/5.0 (Windows NT 10.0; Win64; x64) AppleWebKit/537.36 (KHTML, like Gecko) Chrome/91.0.4472.124 Safari/537.36\")"
   ]
  },
  {
   "cell_type": "code",
   "execution_count": 3,
   "id": "2031163a-b2d2-4f14-889e-5ac2b2670856",
   "metadata": {},
   "outputs": [],
   "source": [
    "driver=webdriver.Chrome(options=options)"
   ]
  },
  {
   "cell_type": "code",
   "execution_count": 4,
   "id": "6a93a854-2c96-4bfe-82da-6dffd5377679",
   "metadata": {},
   "outputs": [],
   "source": [
    "driver.get('https://twitter.com/i/flow/login')"
   ]
  },
  {
   "cell_type": "code",
   "execution_count": 5,
   "id": "8f987ecf-9c26-4997-ad70-6fbd33664d56",
   "metadata": {},
   "outputs": [],
   "source": [
    "pw = '!FFj83431'\n",
    "pw = pw[::-1]"
   ]
  },
  {
   "cell_type": "code",
   "execution_count": 6,
   "id": "e7a4cf04-b79f-4b3c-a6ba-a2707c33b2a5",
   "metadata": {},
   "outputs": [],
   "source": [
    "username = WebDriverWait(driver, 20).until(EC.visibility_of_element_located((By.CSS_SELECTOR, 'input[autocomplete=\"username\"]')))\n",
    "username.send_keys(\"LearngcpG89493\")\n",
    "username.send_keys(Keys.ENTER)\n",
    "\n",
    "password = WebDriverWait(driver, 10).until(EC.visibility_of_element_located((By.CSS_SELECTOR, 'input[name=\"password\"]')))\n",
    "password.send_keys(pw)\n",
    "password.send_keys(Keys.ENTER)\n",
    "\n",
    "time.sleep(5)"
   ]
  },
  {
   "cell_type": "code",
   "execution_count": 7,
   "id": "7b875214-7085-42da-8a7f-b3e367e8f1ea",
   "metadata": {},
   "outputs": [
    {
     "data": {
      "text/plain": [
       "True"
      ]
     },
     "execution_count": 7,
     "metadata": {},
     "output_type": "execute_result"
    }
   ],
   "source": [
    "driver.save_screenshot('test.png')"
   ]
  },
  {
   "cell_type": "code",
   "execution_count": 8,
   "id": "78ffcac8-9b55-4a73-bd03-eaf458be9f2e",
   "metadata": {},
   "outputs": [],
   "source": [
    "driver.get('https://twitter.com/explore/tabs/trending')"
   ]
  },
  {
   "cell_type": "code",
   "execution_count": 9,
   "id": "b46872ae-19e2-4f92-8754-a4169918d39f",
   "metadata": {},
   "outputs": [
    {
     "data": {
      "text/plain": [
       "True"
      ]
     },
     "execution_count": 9,
     "metadata": {},
     "output_type": "execute_result"
    }
   ],
   "source": [
    "driver.save_screenshot('test.png')"
   ]
  },
  {
   "cell_type": "code",
   "execution_count": 10,
   "id": "bfb1aaaf-e2d9-4401-98c8-69b47fde9d71",
   "metadata": {},
   "outputs": [],
   "source": [
    "def get_html(elements):\n",
    "    return elements.get_attribute('innerHTML')"
   ]
  },
  {
   "cell_type": "code",
   "execution_count": 11,
   "id": "3a8e7cad-8a77-40a5-9133-b368c578ff47",
   "metadata": {},
   "outputs": [],
   "source": [
    "time.sleep(5)\n",
    "span_elements = driver.find_elements(By.TAG_NAME, 'span')"
   ]
  },
  {
   "cell_type": "code",
   "execution_count": 12,
   "id": "b75f7715-e2e0-4faa-b4a1-5c080201e63f",
   "metadata": {},
   "outputs": [],
   "source": [
    "trim_span = span_elements[34:]"
   ]
  },
  {
   "cell_type": "code",
   "execution_count": 13,
   "id": "673d47e5-8740-4411-9078-20707a4514ae",
   "metadata": {},
   "outputs": [],
   "source": [
    "trim_no_spam = []\n",
    "\n",
    "for item in trim_span:\n",
    "    html = get_html(item)\n",
    "    if html:\n",
    "        if html == 'Who to follow':\n",
    "            break\n",
    "            \n",
    "        if len(html) > 4:\n",
    "            if html[0:5] != '<span':\n",
    "                if html[0:4] != '<img':\n",
    "                    if 'posts' not in html:\n",
    "                        if 'Trending' not in html:\n",
    "                            if '<img' not in html:\n",
    "                                trim_no_spam.append(html)\n",
    "\n"
   ]
  },
  {
   "cell_type": "code",
   "execution_count": 14,
   "id": "bb21efa2-7cae-4a5d-9793-9b517b912873",
   "metadata": {},
   "outputs": [],
   "source": [
    "# Insert values in a table\n",
    "from google.cloud import bigquery\n",
    "client = bigquery.Client()"
   ]
  },
  {
   "cell_type": "code",
   "execution_count": 15,
   "id": "b12259d9-99cd-41d1-bb3b-c37e2a057be1",
   "metadata": {},
   "outputs": [],
   "source": [
    "rows = []"
   ]
  },
  {
   "cell_type": "code",
   "execution_count": 16,
   "id": "d5afd1a0-8e6e-48b4-af7a-c83e6891cd36",
   "metadata": {},
   "outputs": [],
   "source": [
    "exec_time = datetime.now().isoformat()\n",
    "\n",
    "for topic in trim_no_spam:\n",
    "    rows.append(\n",
    "        {'topic':topic, 'created_on': exec_time}\n",
    "    )\n"
   ]
  },
  {
   "cell_type": "code",
   "execution_count": 17,
   "id": "d7d8d0fc-652b-4993-aae8-c21030c5dc0c",
   "metadata": {},
   "outputs": [],
   "source": [
    "driver.close()"
   ]
  },
  {
   "cell_type": "code",
   "execution_count": 18,
   "id": "f10b2d2f-b7fd-4043-b14f-d3bf1e918ff7",
   "metadata": {},
   "outputs": [],
   "source": [
    "from google.cloud import bigquery\n",
    "from google.cloud.exceptions import NotFound"
   ]
  },
  {
   "cell_type": "code",
   "execution_count": 19,
   "id": "b2efd09a-b43b-463b-a182-363986a55bae",
   "metadata": {},
   "outputs": [],
   "source": [
    "def create_table_if_not_exists(client, dataset_id, table_id, schema):\n",
    "    dataset_ref = client.dataset(dataset_id)\n",
    "    table_ref = dataset_ref.table(table_id)\n",
    "    \n",
    "    try:\n",
    "        # Check if table exists by fetching its details\n",
    "        client.get_table(table_ref)\n",
    "        print(f\"Table {dataset_id}.{table_id} already exists.\")\n",
    "    except NotFound:\n",
    "        # If table does not exist, create it\n",
    "        table = bigquery.Table(table_ref, schema=schema)\n",
    "        table = client.create_table(table)\n",
    "        print(f\"Created table {table.project}.{table.dataset_id}.{table.table_id}\")\n",
    "\n",
    "def write_to_bigquery(dataset_id, table_id, rows, schema=None):\n",
    "    # Construct a BigQuery client object.\n",
    "    client = bigquery.Client()\n",
    "\n",
    "    # If schema is provided, check and create table if not exists\n",
    "    if schema:\n",
    "        create_table_if_not_exists(client, dataset_id, table_id, schema)\n",
    "        time.sleep(5)\n",
    "    \n",
    "    # Specify the dataset and table where you want to insert data.\n",
    "    table_ref = client.dataset(dataset_id).table(table_id)\n",
    "    table = client.get_table(table_ref)  # API request\n",
    "\n",
    "    # Insert rows into the table.\n",
    "    errors = client.insert_rows(table, rows)\n",
    "    if errors:\n",
    "        print(\"Errors occurred while inserting rows:\", errors)\n",
    "    else:\n",
    "        print(\"Rows successfully inserted into table.\")\n",
    "\n",
    "\n",
    "def query(dataset_id, table_id, sql):\n",
    "    query_job = client.query(sql)\n",
    "    rows = query_job.result()\n",
    "    return rows\n"
   ]
  },
  {
   "cell_type": "code",
   "execution_count": 20,
   "id": "f617de0a-a85f-4e2d-a1ac-7a806dd6c73a",
   "metadata": {},
   "outputs": [
    {
     "name": "stdout",
     "output_type": "stream",
     "text": [
      "Table web_scrape.topics already exists.\n",
      "Rows successfully inserted into table.\n"
     ]
    }
   ],
   "source": [
    "dataset_name = \"web_scrape\"\n",
    "table_name = \"topics\"\n",
    "\n",
    "# Define your table schema. Adjust as per your requirements.\n",
    "sample_schema = [\n",
    "    bigquery.SchemaField('topic', \"STRING\", mode=\"REQUIRED\"),\n",
    "    bigquery.SchemaField('created_on', \"STRING\", mode=\"REQUIRED\"),    \n",
    "]\n",
    "\n",
    "\n",
    "write_to_bigquery(dataset_name, table_name, rows, sample_schema)\n"
   ]
  },
  {
   "cell_type": "code",
   "execution_count": 21,
   "id": "9a0b1670-1572-4e23-b9ef-13180194c3d6",
   "metadata": {},
   "outputs": [],
   "source": [
    "sql = f\"\"\"\n",
    "SELECT * FROM `{dataset_name}.{table_name}` \n",
    "\"\"\""
   ]
  },
  {
   "cell_type": "code",
   "execution_count": 22,
   "id": "b2aa7e6a-07d1-49ce-a85c-c2682ea299f5",
   "metadata": {},
   "outputs": [],
   "source": [
    "results = query(dataset_name, table_name, sql)"
   ]
  },
  {
   "cell_type": "code",
   "execution_count": 23,
   "id": "39789c80-a28b-4c8d-b532-5eb150830ead",
   "metadata": {},
   "outputs": [
    {
     "name": "stdout",
     "output_type": "stream",
     "text": [
      "Row(('Tonight’s the night. Tune in at 5 p.m. PT.', '2023-10-30T16:45:15.417004'), {'topic': 0, 'created_on': 1})\n",
      "Row(('Promoted by Apple', '2023-10-30T16:45:15.417004'), {'topic': 0, 'created_on': 1})\n",
      "Row(('#bitrockseason', '2023-10-30T16:45:15.417004'), {'topic': 0, 'created_on': 1})\n",
      "Row(('Messi', '2023-10-30T16:45:15.417004'), {'topic': 0, 'created_on': 1})\n",
      "Row(('Bungie', '2023-10-30T16:45:15.417004'), {'topic': 0, 'created_on': 1})\n",
      "Row(('Leonard Williams', '2023-10-30T16:45:15.417004'), {'topic': 0, 'created_on': 1})\n",
      "Row(('Big Cat', '2023-10-30T16:45:15.417004'), {'topic': 0, 'created_on': 1})\n",
      "Row(('#DeadSpaceHalloweenSweeps', '2023-10-30T16:45:15.417004'), {'topic': 0, 'created_on': 1})\n",
      "Row(('Keith Lee', '2023-10-30T16:45:15.417004'), {'topic': 0, 'created_on': 1})\n",
      "Row(('Laporta', '2023-10-30T16:45:15.417004'), {'topic': 0, 'created_on': 1})\n",
      "Row(('Gibbs', '2023-10-30T16:45:15.417004'), {'topic': 0, 'created_on': 1})\n",
      "Row(('Meyers', '2023-10-30T16:45:15.417004'), {'topic': 0, 'created_on': 1})\n",
      "Row(('Frank Howard', '2023-10-30T16:45:15.417004'), {'topic': 0, 'created_on': 1})\n",
      "Row(('Brian Ferentz', '2023-10-30T16:45:15.417004'), {'topic': 0, 'created_on': 1})\n",
      "Row(('Beth Goetz', '2023-10-30T16:45:15.417004'), {'topic': 0, 'created_on': 1})\n",
      "Row(('Kirk Ferentz', '2023-10-30T16:45:15.417004'), {'topic': 0, 'created_on': 1})\n",
      "Row(('REVOFEV', '2023-10-30T16:45:15.417004'), {'topic': 0, 'created_on': 1})\n",
      "Row(('Destiny', '2023-10-30T16:45:15.417004'), {'topic': 0, 'created_on': 1})\n",
      "Row(('Final Shape', '2023-10-30T16:45:15.417004'), {'topic': 0, 'created_on': 1})\n",
      "Row(('Santana', '2023-10-30T16:45:15.417004'), {'topic': 0, 'created_on': 1})\n",
      "Row(('Jameis', '2023-10-30T16:45:15.417004'), {'topic': 0, 'created_on': 1})\n",
      "Row(('Under the Silver Lake', '2023-10-30T16:45:15.417004'), {'topic': 0, 'created_on': 1})\n",
      "Row(('julien', '2023-10-30T16:45:15.417004'), {'topic': 0, 'created_on': 1})\n",
      "Row(('#AIonRTX', '2023-10-30T16:45:15.417004'), {'topic': 0, 'created_on': 1})\n",
      "Row(('Hondo', '2023-10-30T16:45:15.417004'), {'topic': 0, 'created_on': 1})\n",
      "Row(('Drogba', '2023-10-30T16:45:15.417004'), {'topic': 0, 'created_on': 1})\n",
      "Row(('Aitana', '2023-10-30T16:45:15.417004'), {'topic': 0, 'created_on': 1})\n",
      "Row(('Mbappe', '2023-10-30T16:45:15.417004'), {'topic': 0, 'created_on': 1})\n",
      "Row(('Danton Heinen', '2023-10-30T16:45:15.417004'), {'topic': 0, 'created_on': 1})\n",
      "Row(('Monday Night Football', '2023-10-30T16:45:15.417004'), {'topic': 0, 'created_on': 1})\n",
      "Row(('taemin', '2023-10-30T16:45:15.417004'), {'topic': 0, 'created_on': 1})\n",
      "Row(('Happy Halloween Eve', '2023-10-30T16:45:15.417004'), {'topic': 0, 'created_on': 1})\n",
      "Row(('Fournette', '2023-10-30T16:45:15.417004'), {'topic': 0, 'created_on': 1})\n",
      "Row(('Petgrave', '2023-10-30T16:45:15.417004'), {'topic': 0, 'created_on': 1})\n",
      "Row(('Sports Equinox', '2023-10-30T16:45:15.417004'), {'topic': 0, 'created_on': 1})\n",
      "Row(('Liana', '2023-10-30T16:45:15.417004'), {'topic': 0, 'created_on': 1})\n",
      "Row(('Tonight’s the night. Tune in at 5 p.m. PT.', '2023-10-30T16:45:57.368222'), {'topic': 0, 'created_on': 1})\n",
      "Row(('Promoted by Apple', '2023-10-30T16:45:57.368222'), {'topic': 0, 'created_on': 1})\n",
      "Row(('Messi', '2023-10-30T16:45:57.368222'), {'topic': 0, 'created_on': 1})\n",
      "Row(('Live Broadcast HD', '2023-10-30T16:45:57.368222'), {'topic': 0, 'created_on': 1})\n",
      "Row(('#bitrockseason', '2023-10-30T16:45:57.368222'), {'topic': 0, 'created_on': 1})\n",
      "Row(('Bungie', '2023-10-30T16:45:57.368222'), {'topic': 0, 'created_on': 1})\n",
      "Row(('Destiny', '2023-10-30T16:45:57.368222'), {'topic': 0, 'created_on': 1})\n",
      "Row(('#DeadSpaceHalloweenSweeps', '2023-10-30T16:45:57.368222'), {'topic': 0, 'created_on': 1})\n",
      "Row(('Laporta', '2023-10-30T16:45:57.368222'), {'topic': 0, 'created_on': 1})\n",
      "Row(('Gibbs', '2023-10-30T16:45:57.368222'), {'topic': 0, 'created_on': 1})\n",
      "Row(('Meyers', '2023-10-30T16:45:57.368222'), {'topic': 0, 'created_on': 1})\n",
      "Row(('Leonard Williams', '2023-10-30T16:45:57.368222'), {'topic': 0, 'created_on': 1})\n",
      "Row(('Big Cat', '2023-10-30T16:45:57.368222'), {'topic': 0, 'created_on': 1})\n",
      "Row(('Haaland', '2023-10-30T16:45:57.368222'), {'topic': 0, 'created_on': 1})\n",
      "Row(('Mbappe', '2023-10-30T16:45:57.368222'), {'topic': 0, 'created_on': 1})\n",
      "Row(('Aitana', '2023-10-30T16:45:57.368222'), {'topic': 0, 'created_on': 1})\n",
      "Row(('World Cup', '2023-10-30T16:45:57.368222'), {'topic': 0, 'created_on': 1})\n",
      "Row(('Frank Howard', '2023-10-30T16:45:57.368222'), {'topic': 0, 'created_on': 1})\n",
      "Row(('Brian Ferentz', '2023-10-30T16:45:57.368222'), {'topic': 0, 'created_on': 1})\n",
      "Row(('Beth Goetz', '2023-10-30T16:45:57.368222'), {'topic': 0, 'created_on': 1})\n",
      "Row(('Keith Lee', '2023-10-30T16:45:57.368222'), {'topic': 0, 'created_on': 1})\n",
      "Row(('REVOFEV', '2023-10-30T16:45:57.368222'), {'topic': 0, 'created_on': 1})\n",
      "Row(('Petgrave', '2023-10-30T16:45:57.368222'), {'topic': 0, 'created_on': 1})\n",
      "Row(('The IRS', '2023-10-30T16:45:57.368222'), {'topic': 0, 'created_on': 1})\n",
      "Row(('Hondo', '2023-10-30T16:45:57.368222'), {'topic': 0, 'created_on': 1})\n",
      "Row(('14th Amendment', '2023-10-30T16:45:57.368222'), {'topic': 0, 'created_on': 1})\n",
      "Row(('Selena', '2023-10-30T16:45:57.368222'), {'topic': 0, 'created_on': 1})\n",
      "Row(('Fetterman', '2023-10-30T16:45:57.368222'), {'topic': 0, 'created_on': 1})\n",
      "Row(('#AIonRTX', '2023-10-30T16:45:57.368222'), {'topic': 0, 'created_on': 1})\n",
      "Row(('Santana', '2023-10-30T16:45:57.368222'), {'topic': 0, 'created_on': 1})\n",
      "Row(('Xiomara', '2023-10-30T16:45:57.368222'), {'topic': 0, 'created_on': 1})\n",
      "Row(('Jameis', '2023-10-30T16:45:57.368222'), {'topic': 0, 'created_on': 1})\n",
      "Row(('Roberto Clemente', '2023-10-30T16:45:57.368222'), {'topic': 0, 'created_on': 1})\n",
      "Row(('Ronaldo', '2023-10-30T16:45:57.368222'), {'topic': 0, 'created_on': 1})\n",
      "Row(('Dagestan', '2023-10-30T16:45:57.368222'), {'topic': 0, 'created_on': 1})\n",
      "Row(('julien', '2023-10-30T16:45:57.368222'), {'topic': 0, 'created_on': 1})\n",
      "Row(('Under the Silver Lake', '2023-10-30T16:45:57.368222'), {'topic': 0, 'created_on': 1})\n"
     ]
    }
   ],
   "source": [
    "for r in results:\n",
    "    print(r)"
   ]
  },
  {
   "cell_type": "code",
   "execution_count": null,
   "id": "f948f62b-73f0-4e89-ae54-88df4c85bc22",
   "metadata": {},
   "outputs": [],
   "source": []
  }
 ],
 "metadata": {
  "kernelspec": {
   "display_name": "Python 3 (ipykernel)",
   "language": "python",
   "name": "python3"
  },
  "language_info": {
   "codemirror_mode": {
    "name": "ipython",
    "version": 3
   },
   "file_extension": ".py",
   "mimetype": "text/x-python",
   "name": "python",
   "nbconvert_exporter": "python",
   "pygments_lexer": "ipython3",
   "version": "3.11.4"
  }
 },
 "nbformat": 4,
 "nbformat_minor": 5
}
